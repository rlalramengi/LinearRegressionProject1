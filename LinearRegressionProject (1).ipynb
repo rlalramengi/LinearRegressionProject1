{
  "nbformat": 4,
  "nbformat_minor": 0,
  "metadata": {
    "colab": {
      "name": "LinearRegressionProject.ipynb",
      "provenance": []
    },
    "kernelspec": {
      "name": "python3",
      "display_name": "Python 3"
    },
    "language_info": {
      "name": "python"
    }
  },
  "cells": [
    {
      "cell_type": "code",
      "execution_count": null,
      "metadata": {
        "id": "YygWQXeuJnsP"
      },
      "outputs": [],
      "source": [
        ""
      ]
    },
    {
      "cell_type": "markdown",
      "source": [
        "#Linear Regression "
      ],
      "metadata": {
        "id": "VRrv2OQUM_Bh"
      }
    },
    {
      "cell_type": "markdown",
      "source": [
        "Please use the Seoul Bike dataset."
      ],
      "metadata": {
        "id": "DMtoSnydNEtS"
      }
    },
    {
      "cell_type": "markdown",
      "source": [
        "#Loading of libraries"
      ],
      "metadata": {
        "id": "jT7qY41jNOe4"
      }
    },
    {
      "cell_type": "code",
      "source": [
        "import pandas as pd\n",
        "import numpy as np\n",
        "\n",
        "import warnings\n",
        "warnings.filterwarnings('ignore')\n",
        "\n",
        "import seaborn as sns\n",
        "import matplotlib.pyplot as plt\n",
        "%matplotlib inline\n",
        "sns.set(style='white', color_codes=True)"
      ],
      "metadata": {
        "id": "vtpWVCb2NKJD"
      },
      "execution_count": null,
      "outputs": []
    },
    {
      "cell_type": "markdown",
      "source": [
        ""
      ],
      "metadata": {
        "id": "Q2LAkEOhNRko"
      }
    },
    {
      "cell_type": "code",
      "source": [
        "data = pd.read_csv('/content/drive/MyDrive/DataSet/techis-ds-wiki-main/DS/Step 2-1 Linear Regression/SeoulBikeData.csv')\n",
        "\n",
        "data.head()"
      ],
      "metadata": {
        "id": "xhQ2VCFHNW3E",
        "colab": {
          "base_uri": "https://localhost:8080/",
          "height": 392
        },
        "outputId": "26b82a3d-bd1e-4ba0-c394-ff679acd3330"
      },
      "execution_count": null,
      "outputs": [
        {
          "output_type": "execute_result",
          "data": {
            "text/plain": [
              "         Date  Rented Bike Count  Hour  Temperature(C)  Humidity(%)  \\\n",
              "0  01/12/2017                254     0            -5.2           37   \n",
              "1  01/12/2017                204     1            -5.5           38   \n",
              "2  01/12/2017                173     2            -6.0           39   \n",
              "3  01/12/2017                107     3            -6.2           40   \n",
              "4  01/12/2017                 78     4            -6.0           36   \n",
              "\n",
              "   Wind speed (m/s)  Visibility (10m)  Dew point temperature(C)  \\\n",
              "0               2.2              2000                     -17.6   \n",
              "1               0.8              2000                     -17.6   \n",
              "2               1.0              2000                     -17.7   \n",
              "3               0.9              2000                     -17.6   \n",
              "4               2.3              2000                     -18.6   \n",
              "\n",
              "   Solar Radiation (MJ/m2)  Rainfall(mm)  Snowfall (cm) Seasons     Holiday  \\\n",
              "0                      0.0           0.0            0.0  Winter  No Holiday   \n",
              "1                      0.0           0.0            0.0  Winter  No Holiday   \n",
              "2                      0.0           0.0            0.0  Winter  No Holiday   \n",
              "3                      0.0           0.0            0.0  Winter  No Holiday   \n",
              "4                      0.0           0.0            0.0  Winter  No Holiday   \n",
              "\n",
              "  Functioning Day  \n",
              "0             Yes  \n",
              "1             Yes  \n",
              "2             Yes  \n",
              "3             Yes  \n",
              "4             Yes  "
            ],
            "text/html": [
              "\n",
              "  <div id=\"df-c4daea77-88a4-40a2-a4fe-15d953305503\">\n",
              "    <div class=\"colab-df-container\">\n",
              "      <div>\n",
              "<style scoped>\n",
              "    .dataframe tbody tr th:only-of-type {\n",
              "        vertical-align: middle;\n",
              "    }\n",
              "\n",
              "    .dataframe tbody tr th {\n",
              "        vertical-align: top;\n",
              "    }\n",
              "\n",
              "    .dataframe thead th {\n",
              "        text-align: right;\n",
              "    }\n",
              "</style>\n",
              "<table border=\"1\" class=\"dataframe\">\n",
              "  <thead>\n",
              "    <tr style=\"text-align: right;\">\n",
              "      <th></th>\n",
              "      <th>Date</th>\n",
              "      <th>Rented Bike Count</th>\n",
              "      <th>Hour</th>\n",
              "      <th>Temperature(C)</th>\n",
              "      <th>Humidity(%)</th>\n",
              "      <th>Wind speed (m/s)</th>\n",
              "      <th>Visibility (10m)</th>\n",
              "      <th>Dew point temperature(C)</th>\n",
              "      <th>Solar Radiation (MJ/m2)</th>\n",
              "      <th>Rainfall(mm)</th>\n",
              "      <th>Snowfall (cm)</th>\n",
              "      <th>Seasons</th>\n",
              "      <th>Holiday</th>\n",
              "      <th>Functioning Day</th>\n",
              "    </tr>\n",
              "  </thead>\n",
              "  <tbody>\n",
              "    <tr>\n",
              "      <th>0</th>\n",
              "      <td>01/12/2017</td>\n",
              "      <td>254</td>\n",
              "      <td>0</td>\n",
              "      <td>-5.2</td>\n",
              "      <td>37</td>\n",
              "      <td>2.2</td>\n",
              "      <td>2000</td>\n",
              "      <td>-17.6</td>\n",
              "      <td>0.0</td>\n",
              "      <td>0.0</td>\n",
              "      <td>0.0</td>\n",
              "      <td>Winter</td>\n",
              "      <td>No Holiday</td>\n",
              "      <td>Yes</td>\n",
              "    </tr>\n",
              "    <tr>\n",
              "      <th>1</th>\n",
              "      <td>01/12/2017</td>\n",
              "      <td>204</td>\n",
              "      <td>1</td>\n",
              "      <td>-5.5</td>\n",
              "      <td>38</td>\n",
              "      <td>0.8</td>\n",
              "      <td>2000</td>\n",
              "      <td>-17.6</td>\n",
              "      <td>0.0</td>\n",
              "      <td>0.0</td>\n",
              "      <td>0.0</td>\n",
              "      <td>Winter</td>\n",
              "      <td>No Holiday</td>\n",
              "      <td>Yes</td>\n",
              "    </tr>\n",
              "    <tr>\n",
              "      <th>2</th>\n",
              "      <td>01/12/2017</td>\n",
              "      <td>173</td>\n",
              "      <td>2</td>\n",
              "      <td>-6.0</td>\n",
              "      <td>39</td>\n",
              "      <td>1.0</td>\n",
              "      <td>2000</td>\n",
              "      <td>-17.7</td>\n",
              "      <td>0.0</td>\n",
              "      <td>0.0</td>\n",
              "      <td>0.0</td>\n",
              "      <td>Winter</td>\n",
              "      <td>No Holiday</td>\n",
              "      <td>Yes</td>\n",
              "    </tr>\n",
              "    <tr>\n",
              "      <th>3</th>\n",
              "      <td>01/12/2017</td>\n",
              "      <td>107</td>\n",
              "      <td>3</td>\n",
              "      <td>-6.2</td>\n",
              "      <td>40</td>\n",
              "      <td>0.9</td>\n",
              "      <td>2000</td>\n",
              "      <td>-17.6</td>\n",
              "      <td>0.0</td>\n",
              "      <td>0.0</td>\n",
              "      <td>0.0</td>\n",
              "      <td>Winter</td>\n",
              "      <td>No Holiday</td>\n",
              "      <td>Yes</td>\n",
              "    </tr>\n",
              "    <tr>\n",
              "      <th>4</th>\n",
              "      <td>01/12/2017</td>\n",
              "      <td>78</td>\n",
              "      <td>4</td>\n",
              "      <td>-6.0</td>\n",
              "      <td>36</td>\n",
              "      <td>2.3</td>\n",
              "      <td>2000</td>\n",
              "      <td>-18.6</td>\n",
              "      <td>0.0</td>\n",
              "      <td>0.0</td>\n",
              "      <td>0.0</td>\n",
              "      <td>Winter</td>\n",
              "      <td>No Holiday</td>\n",
              "      <td>Yes</td>\n",
              "    </tr>\n",
              "  </tbody>\n",
              "</table>\n",
              "</div>\n",
              "      <button class=\"colab-df-convert\" onclick=\"convertToInteractive('df-c4daea77-88a4-40a2-a4fe-15d953305503')\"\n",
              "              title=\"Convert this dataframe to an interactive table.\"\n",
              "              style=\"display:none;\">\n",
              "        \n",
              "  <svg xmlns=\"http://www.w3.org/2000/svg\" height=\"24px\"viewBox=\"0 0 24 24\"\n",
              "       width=\"24px\">\n",
              "    <path d=\"M0 0h24v24H0V0z\" fill=\"none\"/>\n",
              "    <path d=\"M18.56 5.44l.94 2.06.94-2.06 2.06-.94-2.06-.94-.94-2.06-.94 2.06-2.06.94zm-11 1L8.5 8.5l.94-2.06 2.06-.94-2.06-.94L8.5 2.5l-.94 2.06-2.06.94zm10 10l.94 2.06.94-2.06 2.06-.94-2.06-.94-.94-2.06-.94 2.06-2.06.94z\"/><path d=\"M17.41 7.96l-1.37-1.37c-.4-.4-.92-.59-1.43-.59-.52 0-1.04.2-1.43.59L10.3 9.45l-7.72 7.72c-.78.78-.78 2.05 0 2.83L4 21.41c.39.39.9.59 1.41.59.51 0 1.02-.2 1.41-.59l7.78-7.78 2.81-2.81c.8-.78.8-2.07 0-2.86zM5.41 20L4 18.59l7.72-7.72 1.47 1.35L5.41 20z\"/>\n",
              "  </svg>\n",
              "      </button>\n",
              "      \n",
              "  <style>\n",
              "    .colab-df-container {\n",
              "      display:flex;\n",
              "      flex-wrap:wrap;\n",
              "      gap: 12px;\n",
              "    }\n",
              "\n",
              "    .colab-df-convert {\n",
              "      background-color: #E8F0FE;\n",
              "      border: none;\n",
              "      border-radius: 50%;\n",
              "      cursor: pointer;\n",
              "      display: none;\n",
              "      fill: #1967D2;\n",
              "      height: 32px;\n",
              "      padding: 0 0 0 0;\n",
              "      width: 32px;\n",
              "    }\n",
              "\n",
              "    .colab-df-convert:hover {\n",
              "      background-color: #E2EBFA;\n",
              "      box-shadow: 0px 1px 2px rgba(60, 64, 67, 0.3), 0px 1px 3px 1px rgba(60, 64, 67, 0.15);\n",
              "      fill: #174EA6;\n",
              "    }\n",
              "\n",
              "    [theme=dark] .colab-df-convert {\n",
              "      background-color: #3B4455;\n",
              "      fill: #D2E3FC;\n",
              "    }\n",
              "\n",
              "    [theme=dark] .colab-df-convert:hover {\n",
              "      background-color: #434B5C;\n",
              "      box-shadow: 0px 1px 3px 1px rgba(0, 0, 0, 0.15);\n",
              "      filter: drop-shadow(0px 1px 2px rgba(0, 0, 0, 0.3));\n",
              "      fill: #FFFFFF;\n",
              "    }\n",
              "  </style>\n",
              "\n",
              "      <script>\n",
              "        const buttonEl =\n",
              "          document.querySelector('#df-c4daea77-88a4-40a2-a4fe-15d953305503 button.colab-df-convert');\n",
              "        buttonEl.style.display =\n",
              "          google.colab.kernel.accessAllowed ? 'block' : 'none';\n",
              "\n",
              "        async function convertToInteractive(key) {\n",
              "          const element = document.querySelector('#df-c4daea77-88a4-40a2-a4fe-15d953305503');\n",
              "          const dataTable =\n",
              "            await google.colab.kernel.invokeFunction('convertToInteractive',\n",
              "                                                     [key], {});\n",
              "          if (!dataTable) return;\n",
              "\n",
              "          const docLinkHtml = 'Like what you see? Visit the ' +\n",
              "            '<a target=\"_blank\" href=https://colab.research.google.com/notebooks/data_table.ipynb>data table notebook</a>'\n",
              "            + ' to learn more about interactive tables.';\n",
              "          element.innerHTML = '';\n",
              "          dataTable['output_type'] = 'display_data';\n",
              "          await google.colab.output.renderOutput(dataTable, element);\n",
              "          const docLink = document.createElement('div');\n",
              "          docLink.innerHTML = docLinkHtml;\n",
              "          element.appendChild(docLink);\n",
              "        }\n",
              "      </script>\n",
              "    </div>\n",
              "  </div>\n",
              "  "
            ]
          },
          "metadata": {},
          "execution_count": 3
        }
      ]
    },
    {
      "cell_type": "markdown",
      "source": [
        "#data preprocessing"
      ],
      "metadata": {
        "id": "OBQ7k644VJ6F"
      }
    },
    {
      "cell_type": "code",
      "source": [
        "data['Solar Radiation (MJ/m2)'].nunique()"
      ],
      "metadata": {
        "colab": {
          "base_uri": "https://localhost:8080/"
        },
        "id": "hkT180jMIdAm",
        "outputId": "18d36fa7-cf31-445e-d8a3-09a5e799cccc"
      },
      "execution_count": null,
      "outputs": [
        {
          "output_type": "execute_result",
          "data": {
            "text/plain": [
              "345"
            ]
          },
          "metadata": {},
          "execution_count": 4
        }
      ]
    },
    {
      "cell_type": "code",
      "source": [
        "# drop meaningless columns\n",
        "data.drop(columns = ['Date'], inplace=True)\n"
      ],
      "metadata": {
        "id": "N1JCA_6WXGCj"
      },
      "execution_count": null,
      "outputs": []
    },
    {
      "cell_type": "code",
      "source": [
        "df = data.copy()"
      ],
      "metadata": {
        "id": "8krlt4u1uxIM"
      },
      "execution_count": null,
      "outputs": []
    },
    {
      "cell_type": "code",
      "source": [
        "# Extracting dataframe for only 'number' datatypes\n",
        "# df = data.select_dtypes(include=['float64','int64'])\n",
        "# df.head()"
      ],
      "metadata": {
        "id": "JF9HQAkoXIpD"
      },
      "execution_count": null,
      "outputs": []
    },
    {
      "cell_type": "code",
      "source": [
        "# Showing datatypes of the columns\n",
        "df.info()"
      ],
      "metadata": {
        "colab": {
          "base_uri": "https://localhost:8080/"
        },
        "id": "vjW1AecFObfk",
        "outputId": "146c144e-8889-471f-c958-8d759f3e287d"
      },
      "execution_count": null,
      "outputs": [
        {
          "output_type": "stream",
          "name": "stdout",
          "text": [
            "<class 'pandas.core.frame.DataFrame'>\n",
            "RangeIndex: 8760 entries, 0 to 8759\n",
            "Data columns (total 13 columns):\n",
            " #   Column                    Non-Null Count  Dtype  \n",
            "---  ------                    --------------  -----  \n",
            " 0   Rented Bike Count         8760 non-null   int64  \n",
            " 1   Hour                      8760 non-null   int64  \n",
            " 2   Temperature(C)            8760 non-null   float64\n",
            " 3   Humidity(%)               8760 non-null   int64  \n",
            " 4   Wind speed (m/s)          8760 non-null   float64\n",
            " 5   Visibility (10m)          8760 non-null   int64  \n",
            " 6   Dew point temperature(C)  8760 non-null   float64\n",
            " 7   Solar Radiation (MJ/m2)   8760 non-null   float64\n",
            " 8   Rainfall(mm)              8760 non-null   float64\n",
            " 9   Snowfall (cm)             8760 non-null   float64\n",
            " 10  Seasons                   8760 non-null   object \n",
            " 11  Holiday                   8760 non-null   object \n",
            " 12  Functioning Day           8760 non-null   object \n",
            "dtypes: float64(6), int64(4), object(3)\n",
            "memory usage: 889.8+ KB\n"
          ]
        }
      ]
    },
    {
      "cell_type": "markdown",
      "source": [
        "# Encoding Data"
      ],
      "metadata": {
        "id": "pm5Ms2EHPGy0"
      }
    },
    {
      "cell_type": "code",
      "source": [
        "from sklearn.preprocessing import LabelEncoder\n",
        "LE = LabelEncoder()\n",
        "df['Seasons']=LE.fit_transform(df['Seasons'])\n",
        "df['Holiday']=LE.fit_transform(df['Holiday'])\n",
        "df['Functioning Day'] = LE.fit_transform(df['Functioning Day'])"
      ],
      "metadata": {
        "id": "1h5eklSZPJiv"
      },
      "execution_count": null,
      "outputs": []
    },
    {
      "cell_type": "code",
      "source": [
        "df.head()"
      ],
      "metadata": {
        "colab": {
          "base_uri": "https://localhost:8080/",
          "height": 305
        },
        "id": "Om6_3ea3PxAP",
        "outputId": "0f795048-5e3a-4eb8-b809-aadd91ff0610"
      },
      "execution_count": null,
      "outputs": [
        {
          "output_type": "execute_result",
          "data": {
            "text/plain": [
              "   Rented Bike Count  Hour  Temperature(C)  Humidity(%)  Wind speed (m/s)  \\\n",
              "0                254     0            -5.2           37               2.2   \n",
              "1                204     1            -5.5           38               0.8   \n",
              "2                173     2            -6.0           39               1.0   \n",
              "3                107     3            -6.2           40               0.9   \n",
              "4                 78     4            -6.0           36               2.3   \n",
              "\n",
              "   Visibility (10m)  Dew point temperature(C)  Solar Radiation (MJ/m2)  \\\n",
              "0              2000                     -17.6                      0.0   \n",
              "1              2000                     -17.6                      0.0   \n",
              "2              2000                     -17.7                      0.0   \n",
              "3              2000                     -17.6                      0.0   \n",
              "4              2000                     -18.6                      0.0   \n",
              "\n",
              "   Rainfall(mm)  Snowfall (cm)  Seasons  Holiday  Functioning Day  \n",
              "0           0.0            0.0        3        1                1  \n",
              "1           0.0            0.0        3        1                1  \n",
              "2           0.0            0.0        3        1                1  \n",
              "3           0.0            0.0        3        1                1  \n",
              "4           0.0            0.0        3        1                1  "
            ],
            "text/html": [
              "\n",
              "  <div id=\"df-d5beacf5-81bc-45c3-b22b-c29115a54c71\">\n",
              "    <div class=\"colab-df-container\">\n",
              "      <div>\n",
              "<style scoped>\n",
              "    .dataframe tbody tr th:only-of-type {\n",
              "        vertical-align: middle;\n",
              "    }\n",
              "\n",
              "    .dataframe tbody tr th {\n",
              "        vertical-align: top;\n",
              "    }\n",
              "\n",
              "    .dataframe thead th {\n",
              "        text-align: right;\n",
              "    }\n",
              "</style>\n",
              "<table border=\"1\" class=\"dataframe\">\n",
              "  <thead>\n",
              "    <tr style=\"text-align: right;\">\n",
              "      <th></th>\n",
              "      <th>Rented Bike Count</th>\n",
              "      <th>Hour</th>\n",
              "      <th>Temperature(C)</th>\n",
              "      <th>Humidity(%)</th>\n",
              "      <th>Wind speed (m/s)</th>\n",
              "      <th>Visibility (10m)</th>\n",
              "      <th>Dew point temperature(C)</th>\n",
              "      <th>Solar Radiation (MJ/m2)</th>\n",
              "      <th>Rainfall(mm)</th>\n",
              "      <th>Snowfall (cm)</th>\n",
              "      <th>Seasons</th>\n",
              "      <th>Holiday</th>\n",
              "      <th>Functioning Day</th>\n",
              "    </tr>\n",
              "  </thead>\n",
              "  <tbody>\n",
              "    <tr>\n",
              "      <th>0</th>\n",
              "      <td>254</td>\n",
              "      <td>0</td>\n",
              "      <td>-5.2</td>\n",
              "      <td>37</td>\n",
              "      <td>2.2</td>\n",
              "      <td>2000</td>\n",
              "      <td>-17.6</td>\n",
              "      <td>0.0</td>\n",
              "      <td>0.0</td>\n",
              "      <td>0.0</td>\n",
              "      <td>3</td>\n",
              "      <td>1</td>\n",
              "      <td>1</td>\n",
              "    </tr>\n",
              "    <tr>\n",
              "      <th>1</th>\n",
              "      <td>204</td>\n",
              "      <td>1</td>\n",
              "      <td>-5.5</td>\n",
              "      <td>38</td>\n",
              "      <td>0.8</td>\n",
              "      <td>2000</td>\n",
              "      <td>-17.6</td>\n",
              "      <td>0.0</td>\n",
              "      <td>0.0</td>\n",
              "      <td>0.0</td>\n",
              "      <td>3</td>\n",
              "      <td>1</td>\n",
              "      <td>1</td>\n",
              "    </tr>\n",
              "    <tr>\n",
              "      <th>2</th>\n",
              "      <td>173</td>\n",
              "      <td>2</td>\n",
              "      <td>-6.0</td>\n",
              "      <td>39</td>\n",
              "      <td>1.0</td>\n",
              "      <td>2000</td>\n",
              "      <td>-17.7</td>\n",
              "      <td>0.0</td>\n",
              "      <td>0.0</td>\n",
              "      <td>0.0</td>\n",
              "      <td>3</td>\n",
              "      <td>1</td>\n",
              "      <td>1</td>\n",
              "    </tr>\n",
              "    <tr>\n",
              "      <th>3</th>\n",
              "      <td>107</td>\n",
              "      <td>3</td>\n",
              "      <td>-6.2</td>\n",
              "      <td>40</td>\n",
              "      <td>0.9</td>\n",
              "      <td>2000</td>\n",
              "      <td>-17.6</td>\n",
              "      <td>0.0</td>\n",
              "      <td>0.0</td>\n",
              "      <td>0.0</td>\n",
              "      <td>3</td>\n",
              "      <td>1</td>\n",
              "      <td>1</td>\n",
              "    </tr>\n",
              "    <tr>\n",
              "      <th>4</th>\n",
              "      <td>78</td>\n",
              "      <td>4</td>\n",
              "      <td>-6.0</td>\n",
              "      <td>36</td>\n",
              "      <td>2.3</td>\n",
              "      <td>2000</td>\n",
              "      <td>-18.6</td>\n",
              "      <td>0.0</td>\n",
              "      <td>0.0</td>\n",
              "      <td>0.0</td>\n",
              "      <td>3</td>\n",
              "      <td>1</td>\n",
              "      <td>1</td>\n",
              "    </tr>\n",
              "  </tbody>\n",
              "</table>\n",
              "</div>\n",
              "      <button class=\"colab-df-convert\" onclick=\"convertToInteractive('df-d5beacf5-81bc-45c3-b22b-c29115a54c71')\"\n",
              "              title=\"Convert this dataframe to an interactive table.\"\n",
              "              style=\"display:none;\">\n",
              "        \n",
              "  <svg xmlns=\"http://www.w3.org/2000/svg\" height=\"24px\"viewBox=\"0 0 24 24\"\n",
              "       width=\"24px\">\n",
              "    <path d=\"M0 0h24v24H0V0z\" fill=\"none\"/>\n",
              "    <path d=\"M18.56 5.44l.94 2.06.94-2.06 2.06-.94-2.06-.94-.94-2.06-.94 2.06-2.06.94zm-11 1L8.5 8.5l.94-2.06 2.06-.94-2.06-.94L8.5 2.5l-.94 2.06-2.06.94zm10 10l.94 2.06.94-2.06 2.06-.94-2.06-.94-.94-2.06-.94 2.06-2.06.94z\"/><path d=\"M17.41 7.96l-1.37-1.37c-.4-.4-.92-.59-1.43-.59-.52 0-1.04.2-1.43.59L10.3 9.45l-7.72 7.72c-.78.78-.78 2.05 0 2.83L4 21.41c.39.39.9.59 1.41.59.51 0 1.02-.2 1.41-.59l7.78-7.78 2.81-2.81c.8-.78.8-2.07 0-2.86zM5.41 20L4 18.59l7.72-7.72 1.47 1.35L5.41 20z\"/>\n",
              "  </svg>\n",
              "      </button>\n",
              "      \n",
              "  <style>\n",
              "    .colab-df-container {\n",
              "      display:flex;\n",
              "      flex-wrap:wrap;\n",
              "      gap: 12px;\n",
              "    }\n",
              "\n",
              "    .colab-df-convert {\n",
              "      background-color: #E8F0FE;\n",
              "      border: none;\n",
              "      border-radius: 50%;\n",
              "      cursor: pointer;\n",
              "      display: none;\n",
              "      fill: #1967D2;\n",
              "      height: 32px;\n",
              "      padding: 0 0 0 0;\n",
              "      width: 32px;\n",
              "    }\n",
              "\n",
              "    .colab-df-convert:hover {\n",
              "      background-color: #E2EBFA;\n",
              "      box-shadow: 0px 1px 2px rgba(60, 64, 67, 0.3), 0px 1px 3px 1px rgba(60, 64, 67, 0.15);\n",
              "      fill: #174EA6;\n",
              "    }\n",
              "\n",
              "    [theme=dark] .colab-df-convert {\n",
              "      background-color: #3B4455;\n",
              "      fill: #D2E3FC;\n",
              "    }\n",
              "\n",
              "    [theme=dark] .colab-df-convert:hover {\n",
              "      background-color: #434B5C;\n",
              "      box-shadow: 0px 1px 3px 1px rgba(0, 0, 0, 0.15);\n",
              "      filter: drop-shadow(0px 1px 2px rgba(0, 0, 0, 0.3));\n",
              "      fill: #FFFFFF;\n",
              "    }\n",
              "  </style>\n",
              "\n",
              "      <script>\n",
              "        const buttonEl =\n",
              "          document.querySelector('#df-d5beacf5-81bc-45c3-b22b-c29115a54c71 button.colab-df-convert');\n",
              "        buttonEl.style.display =\n",
              "          google.colab.kernel.accessAllowed ? 'block' : 'none';\n",
              "\n",
              "        async function convertToInteractive(key) {\n",
              "          const element = document.querySelector('#df-d5beacf5-81bc-45c3-b22b-c29115a54c71');\n",
              "          const dataTable =\n",
              "            await google.colab.kernel.invokeFunction('convertToInteractive',\n",
              "                                                     [key], {});\n",
              "          if (!dataTable) return;\n",
              "\n",
              "          const docLinkHtml = 'Like what you see? Visit the ' +\n",
              "            '<a target=\"_blank\" href=https://colab.research.google.com/notebooks/data_table.ipynb>data table notebook</a>'\n",
              "            + ' to learn more about interactive tables.';\n",
              "          element.innerHTML = '';\n",
              "          dataTable['output_type'] = 'display_data';\n",
              "          await google.colab.output.renderOutput(dataTable, element);\n",
              "          const docLink = document.createElement('div');\n",
              "          docLink.innerHTML = docLinkHtml;\n",
              "          element.appendChild(docLink);\n",
              "        }\n",
              "      </script>\n",
              "    </div>\n",
              "  </div>\n",
              "  "
            ]
          },
          "metadata": {},
          "execution_count": 10
        }
      ]
    },
    {
      "cell_type": "markdown",
      "source": [
        "#What are the factors that influence the number of bikes rented?"
      ],
      "metadata": {
        "id": "wMklKv_uOnzf"
      }
    },
    {
      "cell_type": "markdown",
      "source": [
        "#Explore the data for outliers and missing values."
      ],
      "metadata": {
        "id": "sufdqpWIV7lg"
      }
    },
    {
      "cell_type": "code",
      "source": [
        "miss_val = df.isna().sum()\n",
        "miss_val"
      ],
      "metadata": {
        "colab": {
          "base_uri": "https://localhost:8080/"
        },
        "id": "osAWBDB2WVNz",
        "outputId": "b348c845-604e-4d43-c6ec-00efe6733366"
      },
      "execution_count": null,
      "outputs": [
        {
          "output_type": "execute_result",
          "data": {
            "text/plain": [
              "Rented Bike Count           0\n",
              "Hour                        0\n",
              "Temperature(C)              0\n",
              "Humidity(%)                 0\n",
              "Wind speed (m/s)            0\n",
              "Visibility (10m)            0\n",
              "Dew point temperature(C)    0\n",
              "Solar Radiation (MJ/m2)     0\n",
              "Rainfall(mm)                0\n",
              "Snowfall (cm)               0\n",
              "Seasons                     0\n",
              "Holiday                     0\n",
              "Functioning Day             0\n",
              "dtype: int64"
            ]
          },
          "metadata": {},
          "execution_count": 11
        }
      ]
    },
    {
      "cell_type": "markdown",
      "source": [
        "# Z = (X-Mu)/Sigma\n"
      ],
      "metadata": {
        "id": "uZbYxjEniAxb"
      }
    },
    {
      "cell_type": "code",
      "source": [
        "# outliers = [ ]\n",
        "# def detect_outliers(data):\n",
        "#   threshold = 1\n",
        "#   mean = np.mean(data)\n",
        "#   std = np.std(data)\n",
        "\n",
        "#   for i in data:\n",
        "#     z_score = (i - mean) /std\n",
        "#     if np.abs(z_score) > threshold:\n",
        "#       outliers.append(i)\n",
        "\n",
        "#   return outliers"
      ],
      "metadata": {
        "id": "RSysLaK5YR0b"
      },
      "execution_count": null,
      "outputs": []
    },
    {
      "cell_type": "code",
      "source": [
        "df.columns"
      ],
      "metadata": {
        "colab": {
          "base_uri": "https://localhost:8080/"
        },
        "id": "2bIrOWpHH_K3",
        "outputId": "3160aa38-5b0a-4295-f048-11249483b296"
      },
      "execution_count": null,
      "outputs": [
        {
          "output_type": "execute_result",
          "data": {
            "text/plain": [
              "Index(['Rented Bike Count', 'Hour', 'Temperature(C)', 'Humidity(%)',\n",
              "       'Wind speed (m/s)', 'Visibility (10m)', 'Dew point temperature(C)',\n",
              "       'Solar Radiation (MJ/m2)', 'Rainfall(mm)', 'Snowfall (cm)', 'Seasons',\n",
              "       'Holiday', 'Functioning Day'],\n",
              "      dtype='object')"
            ]
          },
          "metadata": {},
          "execution_count": 13
        }
      ]
    },
    {
      "cell_type": "code",
      "source": [
        "plt.figure(figsize=(5,5))\n",
        "sns.boxplot(df['Wind speed (m/s)'] )\n",
        "plt.show()"
      ],
      "metadata": {
        "colab": {
          "base_uri": "https://localhost:8080/",
          "height": 339
        },
        "id": "uW8Cg45ChSBb",
        "outputId": "284994c3-cb17-4417-b003-a659bd4c4371"
      },
      "execution_count": null,
      "outputs": [
        {
          "output_type": "display_data",
          "data": {
            "text/plain": [
              "<Figure size 360x360 with 1 Axes>"
            ],
            "image/png": "[encoded data removed]"
          },
          "metadata": {}
        }
      ]
    },
    {
      "cell_type": "code",
      "source": [
        "plt.figure(figsize=(5,5))\n",
        "sns.boxplot(df['Solar Radiation (MJ/m2)'] )\n",
        "plt.show()"
      ],
      "metadata": {
        "colab": {
          "base_uri": "https://localhost:8080/",
          "height": 339
        },
        "id": "2RuATZasJU9U",
        "outputId": "63f47fae-2793-49aa-ccbc-ec327d736cd1"
      },
      "execution_count": null,
      "outputs": [
        {
          "output_type": "display_data",
          "data": {
            "text/plain": [
              "<Figure size 360x360 with 1 Axes>"
            ],
            "image/png": "[encoded data removed]"
          },
          "metadata": {}
        }
      ]
    },
    {
      "cell_type": "markdown",
      "source": [
        "#Removing Outliers"
      ],
      "metadata": {
        "id": "8-azdVtHJheF"
      }
    },
    {
      "cell_type": "code",
      "source": [
        "Q1 ,Q2, Q3 = np.percentile(df['Wind speed (m/s)'],[25,50,75])\n",
        "IQR = Q3 - Q1\n",
        "\n",
        "low_lim = Q1 - (1.5*IQR)\n",
        "up_lim = Q3 + (1.5*IQR)\n",
        "print(low_lim,up_lim)"
      ],
      "metadata": {
        "colab": {
          "base_uri": "https://localhost:8080/"
        },
        "id": "hpENSN4BJki5",
        "outputId": "d152490f-0925-4e2a-ca4b-a2be7764185b"
      },
      "execution_count": null,
      "outputs": [
        {
          "output_type": "stream",
          "name": "stdout",
          "text": [
            "-1.1999999999999997 4.3999999999999995\n"
          ]
        }
      ]
    },
    {
      "cell_type": "code",
      "source": [
        "df = df[df['Wind speed (m/s)']<up_lim]\n",
        "df = df[df['Wind speed (m/s)']>low_lim]"
      ],
      "metadata": {
        "id": "diQaRxxbK1p1"
      },
      "execution_count": null,
      "outputs": []
    },
    {
      "cell_type": "code",
      "source": [
        "Q1 , Q3 = np.percentile(df['Solar Radiation (MJ/m2)'],[25,75])\n",
        "IQR = Q3 - Q1\n",
        "\n",
        "low_lim = Q1 - (1.5*IQR)\n",
        "up_lim = Q3 + (1.5*IQR)\n",
        "print(low_lim,up_lim)"
      ],
      "metadata": {
        "colab": {
          "base_uri": "https://localhost:8080/"
        },
        "id": "y0hkHA2PLdrc",
        "outputId": "9d2fad82-02f2-4e2a-83ca-875c31a684d3"
      },
      "execution_count": null,
      "outputs": [
        {
          "output_type": "stream",
          "name": "stdout",
          "text": [
            "-1.35 2.25\n"
          ]
        }
      ]
    },
    {
      "cell_type": "code",
      "source": [
        "\n",
        "df = df[df['Solar Radiation (MJ/m2)']<up_lim]\n",
        "df = df[df['Solar Radiation (MJ/m2)']>low_lim]"
      ],
      "metadata": {
        "id": "0IJYAiLmLoU2"
      },
      "execution_count": null,
      "outputs": []
    },
    {
      "cell_type": "code",
      "source": [
        "plt.figure(figsize=(5,5))\n",
        "sns.boxplot(df['Wind speed (m/s)'] )\n",
        "plt.show()"
      ],
      "metadata": {
        "colab": {
          "base_uri": "https://localhost:8080/",
          "height": 339
        },
        "id": "L82qCTqFLEjE",
        "outputId": "b18393f2-47ae-41ea-8f86-8658cff0b934"
      },
      "execution_count": null,
      "outputs": [
        {
          "output_type": "display_data",
          "data": {
            "text/plain": [
              "<Figure size 360x360 with 1 Axes>"
            ],
            "image/png": "[encoded data removed]"
          },
          "metadata": {}
        }
      ]
    },
    {
      "cell_type": "code",
      "source": [
        "plt.figure(figsize=(5,5))\n",
        "sns.boxplot(df['Solar Radiation (MJ/m2)'] )\n",
        "plt.show()"
      ],
      "metadata": {
        "colab": {
          "base_uri": "https://localhost:8080/",
          "height": 339
        },
        "id": "xHFHpOGUMABf",
        "outputId": "4a64cf34-bc6b-4479-fa40-0339d51dd4bd"
      },
      "execution_count": null,
      "outputs": [
        {
          "output_type": "display_data",
          "data": {
            "text/plain": [
              "<Figure size 360x360 with 1 Axes>"
            ],
            "image/png": "[encoded data removed]"
          },
          "metadata": {}
        }
      ]
    },
    {
      "cell_type": "code",
      "source": [
        "# col = df.columns\n",
        "# plt.figure(figsize=(5,5))\n",
        "# for i in col:\n",
        "#   plt.subplot(4,4,(int)i[0]+1)\n",
        "#   sns.boxplot(x = i[1],hue='Rented Bike Count',data= df)"
      ],
      "metadata": {
        "id": "AtNVLKxbxoGN"
      },
      "execution_count": null,
      "outputs": []
    },
    {
      "cell_type": "markdown",
      "source": [
        "#Plot the correlation between the variables and state your comments"
      ],
      "metadata": {
        "id": "b8AVwIb9oZcg"
      }
    },
    {
      "cell_type": "code",
      "source": [
        "df_corr=df.corr()\n",
        "df_corr"
      ],
      "metadata": {
        "colab": {
          "base_uri": "https://localhost:8080/",
          "height": 643
        },
        "id": "XWEsJNe0ofyL",
        "outputId": "5f8cf359-0721-4d53-925c-7011cf825f18"
      },
      "execution_count": null,
      "outputs": [
        {
          "output_type": "execute_result",
          "data": {
            "text/plain": [
              "                          Rented Bike Count      Hour  Temperature(C)  \\\n",
              "Rented Bike Count                  1.000000  0.414797        0.537780   \n",
              "Hour                               0.414797  1.000000        0.116513   \n",
              "Temperature(C)                     0.537780  0.116513        1.000000   \n",
              "Humidity(%)                       -0.176562 -0.233066        0.243716   \n",
              "Wind speed (m/s)                   0.135288  0.287022       -0.065874   \n",
              "Visibility (10m)                   0.196567  0.093947        0.014340   \n",
              "Dew point temperature(C)           0.382032  0.001622        0.925929   \n",
              "Solar Radiation (MJ/m2)            0.246138  0.147530        0.251453   \n",
              "Rainfall(mm)                      -0.120803  0.010173        0.062625   \n",
              "Snowfall (cm)                     -0.137473 -0.017072       -0.216687   \n",
              "Seasons                           -0.243095  0.000628       -0.351972   \n",
              "Holiday                            0.075650  0.000758        0.050671   \n",
              "Functioning Day                    0.194667  0.003140       -0.061729   \n",
              "\n",
              "                          Humidity(%)  Wind speed (m/s)  Visibility (10m)  \\\n",
              "Rented Bike Count           -0.176562          0.135288          0.196567   \n",
              "Hour                        -0.233066          0.287022          0.093947   \n",
              "Temperature(C)               0.243716         -0.065874          0.014340   \n",
              "Humidity(%)                  1.000000         -0.301664         -0.546503   \n",
              "Wind speed (m/s)            -0.301664          1.000000          0.165041   \n",
              "Visibility (10m)            -0.546503          0.165041          1.000000   \n",
              "Dew point temperature(C)     0.581140         -0.178699         -0.185429   \n",
              "Solar Radiation (MJ/m2)     -0.389728          0.289969          0.116002   \n",
              "Rainfall(mm)                 0.237311         -0.015743         -0.166560   \n",
              "Snowfall (cm)                0.100015          0.005054         -0.120407   \n",
              "Seasons                     -0.143467          0.122844         -0.009530   \n",
              "Holiday                      0.051126         -0.014212         -0.035920   \n",
              "Functioning Day             -0.017137          0.016808         -0.031163   \n",
              "\n",
              "                          Dew point temperature(C)  Solar Radiation (MJ/m2)  \\\n",
              "Rented Bike Count                         0.382032                 0.246138   \n",
              "Hour                                      0.001622                 0.147530   \n",
              "Temperature(C)                            0.925929                 0.251453   \n",
              "Humidity(%)                               0.581140                -0.389728   \n",
              "Wind speed (m/s)                         -0.178699                 0.289969   \n",
              "Visibility (10m)                         -0.185429                 0.116002   \n",
              "Dew point temperature(C)                  1.000000                 0.045623   \n",
              "Solar Radiation (MJ/m2)                   0.045623                 1.000000   \n",
              "Rainfall(mm)                              0.131400                -0.066605   \n",
              "Snowfall (cm)                            -0.150420                -0.050989   \n",
              "Seasons                                  -0.343955                -0.063242   \n",
              "Holiday                                   0.060285                 0.011302   \n",
              "Functioning Day                          -0.058928                -0.019203   \n",
              "\n",
              "                          Rainfall(mm)  Snowfall (cm)   Seasons   Holiday  \\\n",
              "Rented Bike Count            -0.120803      -0.137473 -0.243095  0.075650   \n",
              "Hour                          0.010173      -0.017072  0.000628  0.000758   \n",
              "Temperature(C)                0.062625      -0.216687 -0.351972  0.050671   \n",
              "Humidity(%)                   0.237311       0.100015 -0.143467  0.051126   \n",
              "Wind speed (m/s)             -0.015743       0.005054  0.122844 -0.014212   \n",
              "Visibility (10m)             -0.166560      -0.120407 -0.009530 -0.035920   \n",
              "Dew point temperature(C)      0.131400      -0.150420 -0.343955  0.060285   \n",
              "Solar Radiation (MJ/m2)      -0.066605      -0.050989 -0.063242  0.011302   \n",
              "Rainfall(mm)                  1.000000       0.006892 -0.019754  0.014295   \n",
              "Snowfall (cm)                 0.006892       1.000000  0.144399  0.013392   \n",
              "Seasons                      -0.019754       0.144399  1.000000 -0.053116   \n",
              "Holiday                       0.014295       0.013392 -0.053116  1.000000   \n",
              "Functioning Day               0.002026       0.033464  0.228387  0.034970   \n",
              "\n",
              "                          Functioning Day  \n",
              "Rented Bike Count                0.194667  \n",
              "Hour                             0.003140  \n",
              "Temperature(C)                  -0.061729  \n",
              "Humidity(%)                     -0.017137  \n",
              "Wind speed (m/s)                 0.016808  \n",
              "Visibility (10m)                -0.031163  \n",
              "Dew point temperature(C)        -0.058928  \n",
              "Solar Radiation (MJ/m2)         -0.019203  \n",
              "Rainfall(mm)                     0.002026  \n",
              "Snowfall (cm)                    0.033464  \n",
              "Seasons                          0.228387  \n",
              "Holiday                          0.034970  \n",
              "Functioning Day                  1.000000  "
            ],
            "text/html": [
              "\n",
              "  <div id=\"df-19b3ded2-97e1-484b-aecb-7599fefe7efe\">\n",
              "    <div class=\"colab-df-container\">\n",
              "      <div>\n",
              "<style scoped>\n",
              "    .dataframe tbody tr th:only-of-type {\n",
              "        vertical-align: middle;\n",
              "    }\n",
              "\n",
              "    .dataframe tbody tr th {\n",
              "        vertical-align: top;\n",
              "    }\n",
              "\n",
              "    .dataframe thead th {\n",
              "        text-align: right;\n",
              "    }\n",
              "</style>\n",
              "<table border=\"1\" class=\"dataframe\">\n",
              "  <thead>\n",
              "    <tr style=\"text-align: right;\">\n",
              "      <th></th>\n",
              "      <th>Rented Bike Count</th>\n",
              "      <th>Hour</th>\n",
              "      <th>Temperature(C)</th>\n",
              "      <th>Humidity(%)</th>\n",
              "      <th>Wind speed (m/s)</th>\n",
              "      <th>Visibility (10m)</th>\n",
              "      <th>Dew point temperature(C)</th>\n",
              "      <th>Solar Radiation (MJ/m2)</th>\n",
              "      <th>Rainfall(mm)</th>\n",
              "      <th>Snowfall (cm)</th>\n",
              "      <th>Seasons</th>\n",
              "      <th>Holiday</th>\n",
              "      <th>Functioning Day</th>\n",
              "    </tr>\n",
              "  </thead>\n",
              "  <tbody>\n",
              "    <tr>\n",
              "      <th>Rented Bike Count</th>\n",
              "      <td>1.000000</td>\n",
              "      <td>0.414797</td>\n",
              "      <td>0.537780</td>\n",
              "      <td>-0.176562</td>\n",
              "      <td>0.135288</td>\n",
              "      <td>0.196567</td>\n",
              "      <td>0.382032</td>\n",
              "      <td>0.246138</td>\n",
              "      <td>-0.120803</td>\n",
              "      <td>-0.137473</td>\n",
              "      <td>-0.243095</td>\n",
              "      <td>0.075650</td>\n",
              "      <td>0.194667</td>\n",
              "    </tr>\n",
              "    <tr>\n",
              "      <th>Hour</th>\n",
              "      <td>0.414797</td>\n",
              "      <td>1.000000</td>\n",
              "      <td>0.116513</td>\n",
              "      <td>-0.233066</td>\n",
              "      <td>0.287022</td>\n",
              "      <td>0.093947</td>\n",
              "      <td>0.001622</td>\n",
              "      <td>0.147530</td>\n",
              "      <td>0.010173</td>\n",
              "      <td>-0.017072</td>\n",
              "      <td>0.000628</td>\n",
              "      <td>0.000758</td>\n",
              "      <td>0.003140</td>\n",
              "    </tr>\n",
              "    <tr>\n",
              "      <th>Temperature(C)</th>\n",
              "      <td>0.537780</td>\n",
              "      <td>0.116513</td>\n",
              "      <td>1.000000</td>\n",
              "      <td>0.243716</td>\n",
              "      <td>-0.065874</td>\n",
              "      <td>0.014340</td>\n",
              "      <td>0.925929</td>\n",
              "      <td>0.251453</td>\n",
              "      <td>0.062625</td>\n",
              "      <td>-0.216687</td>\n",
              "      <td>-0.351972</td>\n",
              "      <td>0.050671</td>\n",
              "      <td>-0.061729</td>\n",
              "    </tr>\n",
              "    <tr>\n",
              "      <th>Humidity(%)</th>\n",
              "      <td>-0.176562</td>\n",
              "      <td>-0.233066</td>\n",
              "      <td>0.243716</td>\n",
              "      <td>1.000000</td>\n",
              "      <td>-0.301664</td>\n",
              "      <td>-0.546503</td>\n",
              "      <td>0.581140</td>\n",
              "      <td>-0.389728</td>\n",
              "      <td>0.237311</td>\n",
              "      <td>0.100015</td>\n",
              "      <td>-0.143467</td>\n",
              "      <td>0.051126</td>\n",
              "      <td>-0.017137</td>\n",
              "    </tr>\n",
              "    <tr>\n",
              "      <th>Wind speed (m/s)</th>\n",
              "      <td>0.135288</td>\n",
              "      <td>0.287022</td>\n",
              "      <td>-0.065874</td>\n",
              "      <td>-0.301664</td>\n",
              "      <td>1.000000</td>\n",
              "      <td>0.165041</td>\n",
              "      <td>-0.178699</td>\n",
              "      <td>0.289969</td>\n",
              "      <td>-0.015743</td>\n",
              "      <td>0.005054</td>\n",
              "      <td>0.122844</td>\n",
              "      <td>-0.014212</td>\n",
              "      <td>0.016808</td>\n",
              "    </tr>\n",
              "    <tr>\n",
              "      <th>Visibility (10m)</th>\n",
              "      <td>0.196567</td>\n",
              "      <td>0.093947</td>\n",
              "      <td>0.014340</td>\n",
              "      <td>-0.546503</td>\n",
              "      <td>0.165041</td>\n",
              "      <td>1.000000</td>\n",
              "      <td>-0.185429</td>\n",
              "      <td>0.116002</td>\n",
              "      <td>-0.166560</td>\n",
              "      <td>-0.120407</td>\n",
              "      <td>-0.009530</td>\n",
              "      <td>-0.035920</td>\n",
              "      <td>-0.031163</td>\n",
              "    </tr>\n",
              "    <tr>\n",
              "      <th>Dew point temperature(C)</th>\n",
              "      <td>0.382032</td>\n",
              "      <td>0.001622</td>\n",
              "      <td>0.925929</td>\n",
              "      <td>0.581140</td>\n",
              "      <td>-0.178699</td>\n",
              "      <td>-0.185429</td>\n",
              "      <td>1.000000</td>\n",
              "      <td>0.045623</td>\n",
              "      <td>0.131400</td>\n",
              "      <td>-0.150420</td>\n",
              "      <td>-0.343955</td>\n",
              "      <td>0.060285</td>\n",
              "      <td>-0.058928</td>\n",
              "    </tr>\n",
              "    <tr>\n",
              "      <th>Solar Radiation (MJ/m2)</th>\n",
              "      <td>0.246138</td>\n",
              "      <td>0.147530</td>\n",
              "      <td>0.251453</td>\n",
              "      <td>-0.389728</td>\n",
              "      <td>0.289969</td>\n",
              "      <td>0.116002</td>\n",
              "      <td>0.045623</td>\n",
              "      <td>1.000000</td>\n",
              "      <td>-0.066605</td>\n",
              "      <td>-0.050989</td>\n",
              "      <td>-0.063242</td>\n",
              "      <td>0.011302</td>\n",
              "      <td>-0.019203</td>\n",
              "    </tr>\n",
              "    <tr>\n",
              "      <th>Rainfall(mm)</th>\n",
              "      <td>-0.120803</td>\n",
              "      <td>0.010173</td>\n",
              "      <td>0.062625</td>\n",
              "      <td>0.237311</td>\n",
              "      <td>-0.015743</td>\n",
              "      <td>-0.166560</td>\n",
              "      <td>0.131400</td>\n",
              "      <td>-0.066605</td>\n",
              "      <td>1.000000</td>\n",
              "      <td>0.006892</td>\n",
              "      <td>-0.019754</td>\n",
              "      <td>0.014295</td>\n",
              "      <td>0.002026</td>\n",
              "    </tr>\n",
              "    <tr>\n",
              "      <th>Snowfall (cm)</th>\n",
              "      <td>-0.137473</td>\n",
              "      <td>-0.017072</td>\n",
              "      <td>-0.216687</td>\n",
              "      <td>0.100015</td>\n",
              "      <td>0.005054</td>\n",
              "      <td>-0.120407</td>\n",
              "      <td>-0.150420</td>\n",
              "      <td>-0.050989</td>\n",
              "      <td>0.006892</td>\n",
              "      <td>1.000000</td>\n",
              "      <td>0.144399</td>\n",
              "      <td>0.013392</td>\n",
              "      <td>0.033464</td>\n",
              "    </tr>\n",
              "    <tr>\n",
              "      <th>Seasons</th>\n",
              "      <td>-0.243095</td>\n",
              "      <td>0.000628</td>\n",
              "      <td>-0.351972</td>\n",
              "      <td>-0.143467</td>\n",
              "      <td>0.122844</td>\n",
              "      <td>-0.009530</td>\n",
              "      <td>-0.343955</td>\n",
              "      <td>-0.063242</td>\n",
              "      <td>-0.019754</td>\n",
              "      <td>0.144399</td>\n",
              "      <td>1.000000</td>\n",
              "      <td>-0.053116</td>\n",
              "      <td>0.228387</td>\n",
              "    </tr>\n",
              "    <tr>\n",
              "      <th>Holiday</th>\n",
              "      <td>0.075650</td>\n",
              "      <td>0.000758</td>\n",
              "      <td>0.050671</td>\n",
              "      <td>0.051126</td>\n",
              "      <td>-0.014212</td>\n",
              "      <td>-0.035920</td>\n",
              "      <td>0.060285</td>\n",
              "      <td>0.011302</td>\n",
              "      <td>0.014295</td>\n",
              "      <td>0.013392</td>\n",
              "      <td>-0.053116</td>\n",
              "      <td>1.000000</td>\n",
              "      <td>0.034970</td>\n",
              "    </tr>\n",
              "    <tr>\n",
              "      <th>Functioning Day</th>\n",
              "      <td>0.194667</td>\n",
              "      <td>0.003140</td>\n",
              "      <td>-0.061729</td>\n",
              "      <td>-0.017137</td>\n",
              "      <td>0.016808</td>\n",
              "      <td>-0.031163</td>\n",
              "      <td>-0.058928</td>\n",
              "      <td>-0.019203</td>\n",
              "      <td>0.002026</td>\n",
              "      <td>0.033464</td>\n",
              "      <td>0.228387</td>\n",
              "      <td>0.034970</td>\n",
              "      <td>1.000000</td>\n",
              "    </tr>\n",
              "  </tbody>\n",
              "</table>\n",
              "</div>\n",
              "      <button class=\"colab-df-convert\" onclick=\"convertToInteractive('df-19b3ded2-97e1-484b-aecb-7599fefe7efe')\"\n",
              "              title=\"Convert this dataframe to an interactive table.\"\n",
              "              style=\"display:none;\">\n",
              "        \n",
              "  <svg xmlns=\"http://www.w3.org/2000/svg\" height=\"24px\"viewBox=\"0 0 24 24\"\n",
              "       width=\"24px\">\n",
              "    <path d=\"M0 0h24v24H0V0z\" fill=\"none\"/>\n",
              "    <path d=\"M18.56 5.44l.94 2.06.94-2.06 2.06-.94-2.06-.94-.94-2.06-.94 2.06-2.06.94zm-11 1L8.5 8.5l.94-2.06 2.06-.94-2.06-.94L8.5 2.5l-.94 2.06-2.06.94zm10 10l.94 2.06.94-2.06 2.06-.94-2.06-.94-.94-2.06-.94 2.06-2.06.94z\"/><path d=\"M17.41 7.96l-1.37-1.37c-.4-.4-.92-.59-1.43-.59-.52 0-1.04.2-1.43.59L10.3 9.45l-7.72 7.72c-.78.78-.78 2.05 0 2.83L4 21.41c.39.39.9.59 1.41.59.51 0 1.02-.2 1.41-.59l7.78-7.78 2.81-2.81c.8-.78.8-2.07 0-2.86zM5.41 20L4 18.59l7.72-7.72 1.47 1.35L5.41 20z\"/>\n",
              "  </svg>\n",
              "      </button>\n",
              "      \n",
              "  <style>\n",
              "    .colab-df-container {\n",
              "      display:flex;\n",
              "      flex-wrap:wrap;\n",
              "      gap: 12px;\n",
              "    }\n",
              "\n",
              "    .colab-df-convert {\n",
              "      background-color: #E8F0FE;\n",
              "      border: none;\n",
              "      border-radius: 50%;\n",
              "      cursor: pointer;\n",
              "      display: none;\n",
              "      fill: #1967D2;\n",
              "      height: 32px;\n",
              "      padding: 0 0 0 0;\n",
              "      width: 32px;\n",
              "    }\n",
              "\n",
              "    .colab-df-convert:hover {\n",
              "      background-color: #E2EBFA;\n",
              "      box-shadow: 0px 1px 2px rgba(60, 64, 67, 0.3), 0px 1px 3px 1px rgba(60, 64, 67, 0.15);\n",
              "      fill: #174EA6;\n",
              "    }\n",
              "\n",
              "    [theme=dark] .colab-df-convert {\n",
              "      background-color: #3B4455;\n",
              "      fill: #D2E3FC;\n",
              "    }\n",
              "\n",
              "    [theme=dark] .colab-df-convert:hover {\n",
              "      background-color: #434B5C;\n",
              "      box-shadow: 0px 1px 3px 1px rgba(0, 0, 0, 0.15);\n",
              "      filter: drop-shadow(0px 1px 2px rgba(0, 0, 0, 0.3));\n",
              "      fill: #FFFFFF;\n",
              "    }\n",
              "  </style>\n",
              "\n",
              "      <script>\n",
              "        const buttonEl =\n",
              "          document.querySelector('#df-19b3ded2-97e1-484b-aecb-7599fefe7efe button.colab-df-convert');\n",
              "        buttonEl.style.display =\n",
              "          google.colab.kernel.accessAllowed ? 'block' : 'none';\n",
              "\n",
              "        async function convertToInteractive(key) {\n",
              "          const element = document.querySelector('#df-19b3ded2-97e1-484b-aecb-7599fefe7efe');\n",
              "          const dataTable =\n",
              "            await google.colab.kernel.invokeFunction('convertToInteractive',\n",
              "                                                     [key], {});\n",
              "          if (!dataTable) return;\n",
              "\n",
              "          const docLinkHtml = 'Like what you see? Visit the ' +\n",
              "            '<a target=\"_blank\" href=https://colab.research.google.com/notebooks/data_table.ipynb>data table notebook</a>'\n",
              "            + ' to learn more about interactive tables.';\n",
              "          element.innerHTML = '';\n",
              "          dataTable['output_type'] = 'display_data';\n",
              "          await google.colab.output.renderOutput(dataTable, element);\n",
              "          const docLink = document.createElement('div');\n",
              "          docLink.innerHTML = docLinkHtml;\n",
              "          element.appendChild(docLink);\n",
              "        }\n",
              "      </script>\n",
              "    </div>\n",
              "  </div>\n",
              "  "
            ]
          },
          "metadata": {},
          "execution_count": 33
        }
      ]
    },
    {
      "cell_type": "code",
      "source": [
        "plt.figure(figsize=(15,15))\n",
        "sns.heatmap(df_corr,annot=True,cmap='coolwarm',square= True)\n",
        "plt.show()"
      ],
      "metadata": {
        "colab": {
          "base_uri": "https://localhost:8080/",
          "height": 817
        },
        "id": "uVlZSyU5xtpo",
        "outputId": "933c04ae-946b-47d8-f794-a167179a888f"
      },
      "execution_count": null,
      "outputs": [
        {
          "output_type": "display_data",
          "data": {
            "text/plain": [
              "<Figure size 1080x1080 with 2 Axes>"
            ],
            "image/png": "[encoded data removed]"
          },
          "metadata": {}
        }
      ]
    },
    {
      "cell_type": "markdown",
      "source": [
        "# Spliting DataSet \n",
        "\n"
      ],
      "metadata": {
        "id": "tiy-XJKlMxYK"
      }
    },
    {
      "cell_type": "code",
      "source": [
        "from sklearn.model_selection import train_test_split\n",
        "from sklearn.linear_model import LinearRegression\n",
        "from sklearn.metrics import accuracy_score,r2_score"
      ],
      "metadata": {
        "id": "ZeX0o65AysKK"
      },
      "execution_count": null,
      "outputs": []
    },
    {
      "cell_type": "code",
      "source": [
        "x = df.drop(['Rented Bike Count'],axis = 1)\n",
        "y = df['Rented Bike Count']"
      ],
      "metadata": {
        "id": "-wm3ZrayNblZ"
      },
      "execution_count": null,
      "outputs": []
    },
    {
      "cell_type": "code",
      "source": [
        "x_train,x_test,y_train,y_test = train_test_split(x,y,test_size=0.20)"
      ],
      "metadata": {
        "id": "HVjvtWJkNyhC"
      },
      "execution_count": null,
      "outputs": []
    },
    {
      "cell_type": "markdown",
      "source": [
        "# Creating & Training our model"
      ],
      "metadata": {
        "id": "PLHeXEzhV6kC"
      }
    },
    {
      "cell_type": "code",
      "source": [
        "model = LinearRegression()\n",
        "model.fit(x_train,y_train)\n",
        "prediction = model.predict(x_test)"
      ],
      "metadata": {
        "id": "QpLyuq8DOGfO"
      },
      "execution_count": null,
      "outputs": []
    },
    {
      "cell_type": "markdown",
      "source": [
        "# Model Score"
      ],
      "metadata": {
        "id": "PBe8xd08WA4G"
      }
    },
    {
      "cell_type": "code",
      "source": [
        "print(\"Model R2 Score Is:\",round(r2_score(y_test,prediction)*100))"
      ],
      "metadata": {
        "colab": {
          "base_uri": "https://localhost:8080/"
        },
        "id": "3QoiQYQUUptV",
        "outputId": "82011179-b7cc-4b67-c804-494ef46ea334"
      },
      "execution_count": null,
      "outputs": [
        {
          "output_type": "stream",
          "name": "stdout",
          "text": [
            "Model R2 Score Is: 55\n"
          ]
        }
      ]
    },
    {
      "cell_type": "code",
      "source": [
        "model_score = model.score(x_test,y_test)\n",
        "print(\"Model Accuracy is:\",round(model_score*100))"
      ],
      "metadata": {
        "colab": {
          "base_uri": "https://localhost:8080/"
        },
        "id": "3SdWN0BKOU3Q",
        "outputId": "686f337b-813d-4a97-f283-4539fbe80ca0"
      },
      "execution_count": null,
      "outputs": [
        {
          "output_type": "stream",
          "name": "stdout",
          "text": [
            "Model Accuracy is: 55\n"
          ]
        }
      ]
    },
    {
      "cell_type": "markdown",
      "source": [
        "# Model score by using Ridge"
      ],
      "metadata": {
        "id": "z9oZmXb7WIT7"
      }
    },
    {
      "cell_type": "code",
      "source": [
        "from sklearn.linear_model import Ridge\n",
        "R_model = Ridge()\n",
        "R_model.fit(x_train,y_train)\n",
        "Ridge_sc = R_model.score(x_test,y_test)\n",
        "print(\"Model Accuracy is:\",round(Ridge_sc*100))"
      ],
      "metadata": {
        "colab": {
          "base_uri": "https://localhost:8080/"
        },
        "id": "csNimor6Thtx",
        "outputId": "8970e032-9af1-44be-d3a6-b1f38e82d599"
      },
      "execution_count": null,
      "outputs": [
        {
          "output_type": "stream",
          "name": "stdout",
          "text": [
            "Model Accuracy is: 55\n"
          ]
        }
      ]
    },
    {
      "cell_type": "markdown",
      "source": [
        "# Model Score by using Lasso"
      ],
      "metadata": {
        "id": "X5JGGMEGWNH4"
      }
    },
    {
      "cell_type": "code",
      "source": [
        "from sklearn.linear_model import Lasso\n",
        "L_model = Lasso()\n",
        "L_model.fit(x_train,y_train)\n",
        "Lasso_sc = L_model.score(x_test,y_test)\n",
        "print(\"Model Accuracy is:\",round(Lasso_sc*100))"
      ],
      "metadata": {
        "colab": {
          "base_uri": "https://localhost:8080/"
        },
        "id": "FlUQfa8fUWgn",
        "outputId": "593cc5d2-23b6-4d9d-a38c-24c2d765cb91"
      },
      "execution_count": null,
      "outputs": [
        {
          "output_type": "stream",
          "name": "stdout",
          "text": [
            "Model Accuracy is: 55\n"
          ]
        }
      ]
    }
  ]
}